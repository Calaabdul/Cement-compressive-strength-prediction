{
 "cells": [
  {
   "cell_type": "code",
   "execution_count": 1,
   "id": "21f98bfa-aa0b-4a52-aceb-8f947ce57ad0",
   "metadata": {},
   "outputs": [],
   "source": [
    "import pandas as pd\n",
    "import numpy as np"
   ]
  },
  {
   "cell_type": "code",
   "execution_count": 16,
   "id": "a9cc8382-de4e-4d0b-9f70-0f5556dd0b8a",
   "metadata": {},
   "outputs": [],
   "source": [
    "class ImportExcel():\n",
    "    def __init__(self, path):\n",
    "        self.file = pd.ExcelFile(path)\n",
    "        self.sheet_names = self.file.sheet_names\n",
    "    def read_excel(self, sheet):\n",
    "        \"\"\"\n",
    "        Reads a specific sheet from the Excel file.\n",
    "        Args:\n",
    "            sheet (str or int): Sheet name or index to read.\n",
    "        Returns:\n",
    "            pd.DataFrame: The data from the specified sheet as a DataFrame.\n",
    "        \"\"\"\n",
    "        return self.file.parse(sheet)"
   ]
  },
  {
   "cell_type": "code",
   "execution_count": 9,
   "id": "a1912eef-ef87-48c9-b254-0ae193ee22d1",
   "metadata": {},
   "outputs": [],
   "source": [
    "class HandleDuplicate(ImportExcel):\n",
    "    def __init__(self, path):\n",
    "        \"\"\"\n",
    "        x must a dataframe\n",
    "        \"\"\"\n",
    "        super().__init__(path)\n",
    "        self.df = None\n",
    "    def remove(self,self, subset=None, keep='first'):\n",
    "        self.df = self.df.drop_duplicates(subset=subset, keep=keep)\n",
    "        return self.df"
   ]
  }
 ],
 "metadata": {
  "kernelspec": {
   "display_name": "Python 3 (ipykernel)",
   "language": "python",
   "name": "python3"
  },
  "language_info": {
   "codemirror_mode": {
    "name": "ipython",
    "version": 3
   },
   "file_extension": ".py",
   "mimetype": "text/x-python",
   "name": "python",
   "nbconvert_exporter": "python",
   "pygments_lexer": "ipython3",
   "version": "3.12.7"
  }
 },
 "nbformat": 4,
 "nbformat_minor": 5
}
